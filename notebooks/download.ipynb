{
 "cells": [
  {
   "cell_type": "code",
   "execution_count": 1,
   "metadata": {},
   "outputs": [],
   "source": [
    "# Create folder\n",
    "%mkdir download\n",
    "%mkdir data\n",
    "%mkdir processed_data"
   ]
  },
  {
   "cell_type": "code",
   "execution_count": null,
   "metadata": {},
   "outputs": [],
   "source": [
    "# Download and extract\n",
    "%mkdir download/isic2018\n",
    "%cd download/isic2018\n",
    "\n",
    "!gdown 1-5G5YnR5sAXhxoYNoIxdM7iWveGHTMj9\n",
    "!gdown 1-9FFXcwLwHJac6mpF2jhdxHTZFzLvVYA\n",
    "!gdown 1VHMH4E41nDOieOGXbQ_eu13JfqXRDfZH\n",
    "!gdown 1--HcNLfuBpxavAGHfCiPSR_XRXCV5NzO\n",
    "!gdown 1-4i12Q7S9NKgitkW9Oy54WW1qOLOPN3R\n",
    "!gdown 1JV2kD2iV5o3DTjQykDUF3PW0o5gZ5YJt"
   ]
  },
  {
   "cell_type": "code",
   "execution_count": 6,
   "metadata": {},
   "outputs": [],
   "source": [
    "!unzip -q train_dataset.zip\n",
    "!unzip -q val_dataset.zip\n",
    "!unzip -q test_dataset.zip\n",
    "!unzip -q train_gt1.zip\n",
    "!unzip -q val_gt1.zip\n",
    "!unzip -q test_gt1.zip"
   ]
  },
  {
   "cell_type": "code",
   "execution_count": null,
   "metadata": {},
   "outputs": [],
   "source": [
    "%mkdir images\n",
    "%mkdir labels\n",
    "\n",
    "# images folder\n",
    "!mv ISIC2018_Task1-2_Training_Input/* images\n",
    "!mv ISIC2018_Task1-2_Validation_Input/* images\n",
    "!mv ISIC2018_Task1-2_Test_Input/* images\n",
    "\n",
    "!rm -r ISIC2018_Task1-2_Training_Input/\n",
    "!rm -r ISIC2018_Task1-2_Validation_Input/\n",
    "!rm -r ISIC2018_Task1-2_Test_Input/\n",
    "\n",
    "!rm images/ATTRIBUTION.txt\n",
    "\n",
    "# labels folder\n",
    "!mv ISIC2018_Task1_Training_GroundTruth/* labels\n",
    "!mv ISIC2018_Task1_Validation_GroundTruth/* labels\n",
    "!mv ISIC2018_Task1_Test_GroundTruth/* labels\n",
    "\n",
    "!rm -r ISIC2018_Task1_Training_GroundTruth\n",
    "!rm -r ISIC2018_Task1_Validation_GroundTruth\n",
    "!rm -r ISIC2018_Task1_Test_GroundTruth\n",
    "\n",
    "!rm labels/ATTRIBUTION.txt\n",
    "\n",
    "%cd ../.."
   ]
  },
  {
   "cell_type": "code",
   "execution_count": 13,
   "metadata": {},
   "outputs": [],
   "source": [
    "%mkdir data/isic2018\n",
    "!mv download/isic2018/images data/isic2018\n",
    "!mv download/isic2018/labels data/isic2018"
   ]
  },
  {
   "cell_type": "code",
   "execution_count": null,
   "metadata": {},
   "outputs": [],
   "source": [
    "%mkdir processed_data/isic2018\n",
    "from Datasets.process_resize import process_isic2018\n",
    "\n",
    "process_isic2018(\n",
    "    origin_folder=\"data/isic2018\", proceeded_folder=\"processed_data/isic2018\"\n",
    ")"
   ]
  },
  {
   "cell_type": "code",
   "execution_count": null,
   "metadata": {},
   "outputs": [],
   "source": [
    "%mkdir download/ham10000\n",
    "%cd download/ham10000\n",
    "\n",
    "!gdown 1GBtBMNQ_9xwZ3md_V1DSdN4-cwzkYrg8\n",
    "!gdown 1qTCt6eHP0lzUcDih1sE8peIi3bP_8HrW\n",
    "\n",
    "!unzip -q ISIC2018_Task3_Input.zip\n",
    "!unzip -q ISIC2018_Task3_Mask.zip\n",
    "\n",
    "!mv ISIC2018_Task3_Training_Input images\n",
    "!mv HAM10000_segmentations_lesion_tschandl labels\n",
    "\n",
    "%cd ../.."
   ]
  },
  {
   "cell_type": "code",
   "execution_count": 19,
   "metadata": {},
   "outputs": [],
   "source": [
    "%mkdir data/ham10000\n",
    "!mv download/ham10000/images data/ham10000\n",
    "!mv download/ham10000/labels data/ham10000"
   ]
  },
  {
   "cell_type": "code",
   "execution_count": null,
   "metadata": {},
   "outputs": [],
   "source": [
    "%mkdir processed_data/ham10000\n",
    "from Datasets.process_resize import process_isic2018\n",
    "\n",
    "process_isic2018(\n",
    "    origin_folder=\"data/ham10000\", proceeded_folder=\"processed_data/ham10000\"\n",
    ")"
   ]
  },
  {
   "cell_type": "code",
   "execution_count": null,
   "metadata": {},
   "outputs": [],
   "source": [
    "# !python -u method.py --gpu 0 --seed 1 --exp method_name --fold 1"
   ]
  }
 ],
 "metadata": {
  "kernelspec": {
   "display_name": "semi",
   "language": "python",
   "name": "python3"
  },
  "language_info": {
   "codemirror_mode": {
    "name": "ipython",
    "version": 3
   },
   "file_extension": ".py",
   "mimetype": "text/x-python",
   "name": "python",
   "nbconvert_exporter": "python",
   "pygments_lexer": "ipython3",
   "version": "3.9.19"
  }
 },
 "nbformat": 4,
 "nbformat_minor": 2
}
