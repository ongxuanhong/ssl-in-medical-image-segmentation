{
 "cells": [
  {
   "cell_type": "code",
   "execution_count": 3,
   "metadata": {},
   "outputs": [],
   "source": [
    "import os\n",
    "import cv2\n",
    "import numpy as np\n",
    "import matplotlib.pyplot as plt\n",
    "from tqdm import tqdm\n",
    "\n",
    "origin_folder = os.path.join(os.getcwd().replace(\"pipelines\", \"data\"))\n",
    "proceeded_folder = os.path.join(os.getcwd().replace(\"pipelines\", \"processed_data\"))\n",
    "dim = (512, 512)"
   ]
  },
  {
   "cell_type": "code",
   "execution_count": 4,
   "metadata": {},
   "outputs": [
    {
     "name": "stdout",
     "output_type": "stream",
     "text": [
      "number of images: 1169, number of masks: 1169\n"
     ]
    }
   ],
   "source": [
    "image_dir_path = origin_folder + \"/images/\"\n",
    "mask_dir_path = origin_folder + \"/labels/\"\n",
    "\n",
    "image_path_list = os.listdir(image_dir_path)\n",
    "mask_path_list = os.listdir(mask_dir_path)\n",
    "\n",
    "# align masks and inputs\n",
    "image_path_list.sort()\n",
    "mask_path_list.sort()\n",
    "\n",
    "print(\n",
    "    \"number of images: {}, number of masks: {}\".format(\n",
    "        len(image_path_list), len(mask_path_list)\n",
    "    )\n",
    ")"
   ]
  },
  {
   "cell_type": "code",
   "execution_count": 5,
   "metadata": {},
   "outputs": [
    {
     "name": "stderr",
     "output_type": "stream",
     "text": [
      "1169it [02:00,  9.70it/s]\n"
     ]
    }
   ],
   "source": [
    "# store numpy standard dataset\n",
    "for image_path, mask_path in tqdm(zip(image_path_list, mask_path_list)):\n",
    "    # assert image_path == mask_path\n",
    "    assert os.path.basename(image_path)[:-4] == os.path.basename(mask_path)[:-4]\n",
    "\n",
    "    # load image and mask\n",
    "    _id = os.path.basename(image_path)[:-4]\n",
    "    image_path = os.path.join(image_dir_path, image_path)\n",
    "    mask_path = os.path.join(mask_dir_path, mask_path)\n",
    "    image = plt.imread(image_path)\n",
    "\n",
    "    #\n",
    "    mask = plt.imread(mask_path)\n",
    "    if len(mask.shape) == 3:\n",
    "        mask = np.int64(np.all(mask[:, :, :3] == 1, axis=2))\n",
    "\n",
    "    # resize image and mask to 512x512 pixels\n",
    "    image_new = cv2.resize(image, dim, interpolation=cv2.INTER_CUBIC)\n",
    "    mask_new = cv2.resize(mask, dim, interpolation=cv2.INTER_NEAREST)\n",
    "    mask_new = np.where(mask > 0, 1, 0)\n",
    "\n",
    "    # save image and mask\n",
    "    save_dir_path = proceeded_folder + \"/images\"\n",
    "    os.makedirs(save_dir_path, exist_ok=True)\n",
    "    np.save(os.path.join(save_dir_path, _id + \".npy\"), image_new)\n",
    "\n",
    "    save_dir_path = proceeded_folder + \"/labels\"\n",
    "    os.makedirs(save_dir_path, exist_ok=True)\n",
    "    np.save(os.path.join(save_dir_path, _id + \".npy\"), mask_new)"
   ]
  },
  {
   "cell_type": "code",
   "execution_count": 14,
   "metadata": {},
   "outputs": [
    {
     "name": "stderr",
     "output_type": "stream",
     "text": [
      "1169it [00:00, 796223.02it/s]"
     ]
    },
    {
     "name": "stdout",
     "output_type": "stream",
     "text": [
      "1169\n"
     ]
    },
    {
     "name": "stderr",
     "output_type": "stream",
     "text": [
      "\n"
     ]
    }
   ],
   "source": [
    "# store numpy standard dataset\n",
    "ls_image_id = []\n",
    "for image_path, mask_path in tqdm(zip(image_path_list, mask_path_list)):\n",
    "    # assert image_path == mask_path\n",
    "    assert os.path.basename(image_path)[:-4] == os.path.basename(mask_path)[:-4]\n",
    "\n",
    "    # load image and mask\n",
    "    _id = os.path.basename(image_path)[:-4]\n",
    "    ls_image_id.append(_id)\n",
    "\n",
    "print(len(ls_image_id))"
   ]
  },
  {
   "cell_type": "code",
   "execution_count": 14,
   "metadata": {},
   "outputs": [],
   "source": [
    "# split ls_image_id into 5 folds\n",
    "np.random.seed(0)\n",
    "np.random.shuffle(ls_image_id)\n",
    "fold_size = len(ls_image_id) // 5\n",
    "ls_folds = []\n",
    "for i in range(5):\n",
    "    ls_folds.append(ls_image_id[i * fold_size : (i + 1) * fold_size])\n",
    "\n",
    "# save folds as txt\n",
    "save_dir_path = proceeded_folder\n",
    "os.makedirs(save_dir_path, exist_ok=True)\n",
    "for i, fold in enumerate(ls_folds):\n",
    "    with open(os.path.join(save_dir_path, \"fold{}.txt\".format(i + 1)), \"w\") as f:\n",
    "        for item in fold:\n",
    "            file_name = f\"{item}.npy\"\n",
    "            f.write(\"%s\\n\" % file_name)"
   ]
  },
  {
   "cell_type": "code",
   "execution_count": null,
   "metadata": {},
   "outputs": [],
   "source": []
  }
 ],
 "metadata": {
  "kernelspec": {
   "display_name": "ssl-in-medical-image-segmentation",
   "language": "python",
   "name": "python3"
  },
  "language_info": {
   "codemirror_mode": {
    "name": "ipython",
    "version": 3
   },
   "file_extension": ".py",
   "mimetype": "text/x-python",
   "name": "python",
   "nbconvert_exporter": "python",
   "pygments_lexer": "ipython3",
   "version": "3.10.14"
  }
 },
 "nbformat": 4,
 "nbformat_minor": 2
}
