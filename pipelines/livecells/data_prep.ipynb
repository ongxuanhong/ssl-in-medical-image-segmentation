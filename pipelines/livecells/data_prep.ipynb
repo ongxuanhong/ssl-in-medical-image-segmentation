{
 "cells": [
  {
   "cell_type": "code",
   "execution_count": 2,
   "metadata": {},
   "outputs": [],
   "source": [
    "import os\n",
    "import cv2\n",
    "import json\n",
    "import numpy as np\n",
    "import matplotlib.pyplot as plt\n",
    "from tqdm import tqdm\n",
    "\n",
    "origin_folder = \"/home/m12gbs1/working/hongong/ssl-in-medical-image-segmentation/data/livecells\"\n",
    "proceeded_folder = \"/home/m12gbs1/working/hongong/ssl-in-medical-image-segmentation/processed_data/livecells\"\n",
    "dim = (512, 512)"
   ]
  },
  {
   "cell_type": "markdown",
   "metadata": {},
   "source": [
    "# Download data"
   ]
  },
  {
   "cell_type": "code",
   "execution_count": 2,
   "metadata": {},
   "outputs": [
    {
     "name": "stdout",
     "output_type": "stream",
     "text": [
      "--2024-09-06 14:48:44--  http://livecell-dataset.s3.eu-central-1.amazonaws.com/LIVECell_dataset_2021/images.zip\n",
      "Resolving livecell-dataset.s3.eu-central-1.amazonaws.com (livecell-dataset.s3.eu-central-1.amazonaws.com)... 3.5.138.118, 52.219.169.62, 3.5.139.64, ...\n",
      "Connecting to livecell-dataset.s3.eu-central-1.amazonaws.com (livecell-dataset.s3.eu-central-1.amazonaws.com)|3.5.138.118|:80... connected.\n",
      "HTTP request sent, awaiting response... 200 OK\n",
      "Length: 1241715651 (1,2G) [application/zip]\n",
      "Saving to: ‘data/livecells/images.zip’\n",
      "\n",
      "images.zip          100%[===================>]   1,16G  9,60MB/s    in 2m 5s   \n",
      "\n",
      "2024-09-06 14:50:50 (9,46 MB/s) - ‘data/livecells/images.zip’ saved [1241715651/1241715651]\n",
      "\n"
     ]
    }
   ],
   "source": [
    "# Download LIVECell train and test images to data/livecells and unzip\n",
    "!wget \"http://livecell-dataset.s3.eu-central-1.amazonaws.com/LIVECell_dataset_2021/images.zip\" -P data/livecells\n",
    "!unzip -q data/livecells/images.zip -d data/livecells"
   ]
  },
  {
   "cell_type": "code",
   "execution_count": 3,
   "metadata": {},
   "outputs": [
    {
     "name": "stdout",
     "output_type": "stream",
     "text": [
      "--2024-09-06 14:50:57--  http://livecell-dataset.s3.eu-central-1.amazonaws.com/LIVECell_dataset_2021/annotations/LIVECell_dataset_size_split/4_train50percent.json\n",
      "Resolving livecell-dataset.s3.eu-central-1.amazonaws.com (livecell-dataset.s3.eu-central-1.amazonaws.com)... 3.5.136.167, 3.5.135.40, 3.5.137.173, ...\n",
      "Connecting to livecell-dataset.s3.eu-central-1.amazonaws.com (livecell-dataset.s3.eu-central-1.amazonaws.com)|3.5.136.167|:80... connected.\n",
      "HTTP request sent, awaiting response... 200 OK\n",
      "Length: 282314219 (269M) [application/json]\n",
      "Saving to: ‘data/livecells/4_train50percent.json’\n",
      "\n",
      "4_train50percent.js 100%[===================>] 269,24M  8,03MB/s    in 37s     \n",
      "\n",
      "2024-09-06 14:51:34 (7,30 MB/s) - ‘data/livecells/4_train50percent.json’ saved [282314219/282314219]\n",
      "\n"
     ]
    }
   ],
   "source": [
    "# get annotations\n",
    "!wget \"http://livecell-dataset.s3.eu-central-1.amazonaws.com/LIVECell_dataset_2021/annotations/LIVECell_dataset_size_split/4_train50percent.json\" -P data/livecells\n"
   ]
  },
  {
   "cell_type": "markdown",
   "metadata": {},
   "source": [
    "# Load dataset and calculate max annotations per image\n"
   ]
  },
  {
   "cell_type": "code",
   "execution_count": 3,
   "metadata": {},
   "outputs": [],
   "source": [
    "\n",
    "# read original LIVEcell annotation file \n",
    "livecell_annotations = os.path.join(origin_folder, \"4_train50percent.json\")\n",
    "with open(livecell_annotations) as json_file:\n",
    "    source = json.load(json_file)\n"
   ]
  },
  {
   "cell_type": "code",
   "execution_count": 10,
   "metadata": {},
   "outputs": [
    {
     "name": "stdout",
     "output_type": "stream",
     "text": [
      "Maximum number of annotations per image: 3091\n"
     ]
    }
   ],
   "source": [
    "# check max. number of annotations per image for box_detections_per_img hyperparameter \n",
    "annotations_per_image = []\n",
    "\n",
    "for img_idx, image in enumerate(source['images']):\n",
    "    id = image['id']\n",
    "    image_annotations = [annotation for annotation in source['annotations'] if annotation['image_id'] == id]\n",
    "    annotations_per_image.append(len(image_annotations))\n",
    "\n",
    "print ('Maximum number of annotations per image:', max(annotations_per_image))"
   ]
  },
  {
   "cell_type": "code",
   "execution_count": 14,
   "metadata": {},
   "outputs": [
    {
     "data": {
      "text/plain": [
       "162"
      ]
     },
     "execution_count": 14,
     "metadata": {},
     "output_type": "execute_result"
    }
   ],
   "source": [
    "len(image_annotations)"
   ]
  },
  {
   "cell_type": "code",
   "execution_count": 16,
   "metadata": {},
   "outputs": [
    {
     "data": {
      "text/plain": [
       "{'id': 364559,\n",
       " 'image_id': 364558,\n",
       " 'category_id': 1,\n",
       " 'segmentation': [[6.86,\n",
       "   47.02,\n",
       "   5.21,\n",
       "   46.81,\n",
       "   4.59,\n",
       "   46.19,\n",
       "   3.55,\n",
       "   45.36,\n",
       "   2.51,\n",
       "   44.32,\n",
       "   0.86,\n",
       "   42.67,\n",
       "   0.24,\n",
       "   41.84,\n",
       "   0.03,\n",
       "   40.39,\n",
       "   0.44,\n",
       "   30.04,\n",
       "   1.89,\n",
       "   27.97,\n",
       "   3.34,\n",
       "   26.93,\n",
       "   5.0,\n",
       "   25.9,\n",
       "   7.69,\n",
       "   24.65,\n",
       "   8.52,\n",
       "   24.45,\n",
       "   9.55,\n",
       "   24.45,\n",
       "   9.55,\n",
       "   24.45,\n",
       "   10.8,\n",
       "   25.9,\n",
       "   12.66,\n",
       "   28.38,\n",
       "   14.32,\n",
       "   29.62,\n",
       "   16.8,\n",
       "   30.87,\n",
       "   18.46,\n",
       "   31.28,\n",
       "   19.49,\n",
       "   32.94,\n",
       "   19.49,\n",
       "   35.21,\n",
       "   19.49,\n",
       "   37.08,\n",
       "   18.66,\n",
       "   38.53,\n",
       "   18.66,\n",
       "   40.18,\n",
       "   18.66,\n",
       "   42.67,\n",
       "   19.28,\n",
       "   44.32,\n",
       "   20.73,\n",
       "   46.6,\n",
       "   21.56,\n",
       "   48.67,\n",
       "   21.98,\n",
       "   51.16,\n",
       "   22.6,\n",
       "   52.4,\n",
       "   21.15,\n",
       "   52.4,\n",
       "   18.66,\n",
       "   50.95,\n",
       "   16.8,\n",
       "   49.5,\n",
       "   14.52,\n",
       "   48.46,\n",
       "   12.04,\n",
       "   47.84,\n",
       "   9.55,\n",
       "   47.43,\n",
       "   8.52,\n",
       "   46.81]],\n",
       " 'area': 383.69585000000006,\n",
       " 'bbox': [0.03, 24.45, 22.57, 27.95],\n",
       " 'iscrowd': 0}"
      ]
     },
     "execution_count": 16,
     "metadata": {},
     "output_type": "execute_result"
    }
   ],
   "source": [
    "image_annotations[0]"
   ]
  },
  {
   "cell_type": "code",
   "execution_count": 17,
   "metadata": {},
   "outputs": [
    {
     "data": {
      "text/plain": [
       "dict_keys(['id', 'image_id', 'category_id', 'segmentation', 'area', 'bbox', 'iscrowd'])"
      ]
     },
     "execution_count": 17,
     "metadata": {},
     "output_type": "execute_result"
    }
   ],
   "source": [
    "image_annotations[0].keys()"
   ]
  },
  {
   "cell_type": "markdown",
   "metadata": {},
   "source": [
    "# Load training images"
   ]
  },
  {
   "cell_type": "code",
   "execution_count": 18,
   "metadata": {},
   "outputs": [],
   "source": [
    "import os\n",
    "import torch\n",
    "from torch.utils.data import Dataset\n",
    "import cv2\n",
    "import numpy as np\n",
    "from pycocotools.coco import COCO\n",
    "\n",
    "class CocoDataset(Dataset):\n",
    "    def __init__(self, root, ann_file, transforms=None):\n",
    "        \"\"\"\n",
    "        Args:\n",
    "            root (str): Root directory where images are stored.\n",
    "            ann_file (str): Path to the COCO annotations file.\n",
    "            transforms (callable, optional): Optional transform to be applied\n",
    "                on a sample.\n",
    "        \"\"\"\n",
    "        self.root = root\n",
    "        self.coco = COCO(ann_file)\n",
    "        self.transforms = transforms\n",
    "        self.ids = list(self.coco.imgs.keys())\n",
    "\n",
    "    def __len__(self):\n",
    "        return len(self.ids)\n",
    "\n",
    "    def __getitem__(self, idx):\n",
    "        # Get image ID\n",
    "        img_id = self.ids[idx]\n",
    "        # Load image\n",
    "        img_data = self.coco.loadImgs(img_id)[0]\n",
    "        img_path = os.path.join(self.root, img_data['file_name'])\n",
    "        image = cv2.imread(img_path)\n",
    "        image = cv2.cvtColor(image, cv2.COLOR_BGR2RGB)\n",
    "\n",
    "        # Get annotations (masks)\n",
    "        ann_ids = self.coco.getAnnIds(imgIds=img_id)\n",
    "        anns = self.coco.loadAnns(ann_ids)\n",
    "\n",
    "        # Create a mask with the same size as the image\n",
    "        mask = np.zeros((img_data['height'], img_data['width']), dtype=np.uint8)\n",
    "\n",
    "        for ann in anns:\n",
    "            # Create binary mask for each annotation\n",
    "            mask_per_instance = self.coco.annToMask(ann)\n",
    "            # Merge masks (assumes single class for now)\n",
    "            mask = np.maximum(mask, mask_per_instance * ann['category_id'])\n",
    "\n",
    "        sample = {'image': image, 'mask': mask}\n",
    "\n",
    "        # Apply transforms\n",
    "        if self.transforms:\n",
    "            sample = self.transforms(sample)\n",
    "\n",
    "        return sample\n"
   ]
  },
  {
   "cell_type": "code",
   "execution_count": 23,
   "metadata": {},
   "outputs": [],
   "source": [
    "class CocoDataset(Dataset):\n",
    "    def __init__(self, root, ann_file, transforms=None):\n",
    "        self.root = root\n",
    "        self.coco = COCO(ann_file)\n",
    "        self.transforms = transforms\n",
    "        self.ids = list(self.coco.imgs.keys())\n",
    "\n",
    "    def __len__(self):\n",
    "        return len(self.ids)\n",
    "\n",
    "    def __getitem__(self, idx):\n",
    "        img_id = self.ids[idx]\n",
    "        img_data = self.coco.loadImgs(img_id)[0]\n",
    "        img_path = os.path.join(self.root, img_data['file_name'])\n",
    "        \n",
    "        # Load image\n",
    "        image = cv2.imread(img_path)\n",
    "        image = cv2.cvtColor(image, cv2.COLOR_BGR2RGB)\n",
    "\n",
    "        # Load annotations (masks)\n",
    "        ann_ids = self.coco.getAnnIds(imgIds=img_id)\n",
    "        anns = self.coco.loadAnns(ann_ids)\n",
    "\n",
    "        # Create an empty mask with the same size as the image\n",
    "        mask = np.zeros((img_data['height'], img_data['width']), dtype=np.uint8)\n",
    "\n",
    "        for ann in anns:\n",
    "            # Create binary mask for each annotation\n",
    "            mask_per_instance = self.coco.annToMask(ann)\n",
    "\n",
    "            # Resize mask_per_instance to the image's dimensions if they don't match\n",
    "            if mask_per_instance.shape != image.shape[:2]:\n",
    "                mask_per_instance = cv2.resize(mask_per_instance, (image.shape[1], image.shape[0]), interpolation=cv2.INTER_NEAREST)\n",
    "\n",
    "            # Merge masks (single class for now)\n",
    "            mask = np.maximum(mask, mask_per_instance * ann['category_id'])\n",
    "\n",
    "        sample = {'image': image, 'mask': mask}\n",
    "\n",
    "        if self.transforms:\n",
    "            sample = self.transforms(sample)\n",
    "\n",
    "        return sample\n"
   ]
  },
  {
   "cell_type": "code",
   "execution_count": 24,
   "metadata": {},
   "outputs": [
    {
     "name": "stdout",
     "output_type": "stream",
     "text": [
      "loading annotations into memory...\n",
      "Done (t=3.23s)\n",
      "creating index...\n",
      "index created!\n"
     ]
    },
    {
     "data": {
      "image/png": "[encoded data removed]",
      "text/plain": [
       "<Figure size 640x480 with 2 Axes>"
      ]
     },
     "metadata": {},
     "output_type": "display_data"
    }
   ],
   "source": [
    "root_dir = os.path.join(origin_folder, \"images\", \"livecell_train_val_images\")\n",
    "ann_file = os.path.join(origin_folder, \"4_train50percent.json\")\n",
    "\n",
    "dataset = CocoDataset(root=root_dir, ann_file=ann_file)\n",
    "\n",
    "# Example usage\n",
    "sample = dataset[0]\n",
    "image, mask = sample['image'], sample['mask']\n",
    "\n",
    "# Display image and mask\n",
    "import matplotlib.pyplot as plt\n",
    "\n",
    "plt.subplot(1, 2, 1)\n",
    "plt.imshow(image)\n",
    "plt.title('Image')\n",
    "\n",
    "plt.subplot(1, 2, 2)\n",
    "plt.imshow(mask, cmap='gray')\n",
    "plt.title('Mask')\n",
    "\n",
    "plt.show()\n"
   ]
  },
  {
   "cell_type": "code",
   "execution_count": null,
   "metadata": {},
   "outputs": [],
   "source": [
    "import os\n",
    "import cv2\n",
    "from tqdm import tqdm\n",
    "\n",
    "# Paths for saving images and masks\n",
    "output_image_dir = os.path.join(origin_folder, \"output_images\")\n",
    "output_mask_dir = os.path.join(origin_folder, \"output_masks\")\n",
    "\n",
    "# Create directories if they don't exist\n",
    "os.makedirs(output_image_dir, exist_ok=True)\n",
    "os.makedirs(output_mask_dir, exist_ok=True)\n",
    "\n",
    "# Iterate through the dataset and save images/masks\n",
    "for i in tqdm(range(len(dataset))):\n",
    "    sample = dataset[i]\n",
    "    image, mask = sample['image'], sample['mask']\n",
    "\n",
    "    # Convert image from RGB to BGR for saving with OpenCV\n",
    "    image_bgr = cv2.cvtColor(image, cv2.COLOR_RGB2BGR)\n",
    "\n",
    "    # Get the file name from the dataset\n",
    "    img_id = dataset.ids[i]\n",
    "    img_data = dataset.coco.loadImgs(img_id)[0]\n",
    "    file_name = img_data['file_name'].split('.')[0]  # Get file name without extension\n",
    "\n",
    "    # Check if image and mask shapes match\n",
    "    if image.shape[:2] != mask.shape:\n",
    "        print(f\"Shape mismatch for {file_name}: resizing mask\")\n",
    "        # Resize the mask to match the image size\n",
    "        mask = cv2.resize(mask, (image.shape[1], image.shape[0]), interpolation=cv2.INTER_NEAREST)\n",
    "\n",
    "    # Define output paths\n",
    "    image_output_path = os.path.join(output_image_dir, f'{file_name}.jpg')\n",
    "    mask_output_path = os.path.join(output_mask_dir, f'{file_name}.png')\n",
    "\n",
    "    # Save the image\n",
    "    cv2.imwrite(image_output_path, image_bgr)\n",
    "\n",
    "    # Save the mask\n",
    "    cv2.imwrite(mask_output_path, mask)\n",
    "\n",
    "    print(f\"Saved image and mask for {file_name}\")"
   ]
  },
  {
   "cell_type": "markdown",
   "metadata": {},
   "source": [
    "# Convert to numpy"
   ]
  },
  {
   "cell_type": "code",
   "execution_count": 29,
   "metadata": {},
   "outputs": [
    {
     "name": "stdout",
     "output_type": "stream",
     "text": [
      "number of images: 1624, number of masks: 1624\n"
     ]
    }
   ],
   "source": [
    "image_dir_path = origin_folder + \"/output_images/\"\n",
    "mask_dir_path = origin_folder + \"/output_masks/\"\n",
    "\n",
    "image_path_list = os.listdir(image_dir_path)\n",
    "mask_path_list = os.listdir(mask_dir_path)\n",
    "\n",
    "# align masks and inputs\n",
    "image_path_list.sort()\n",
    "mask_path_list.sort()\n",
    "\n",
    "print(\n",
    "    \"number of images: {}, number of masks: {}\".format(\n",
    "        len(image_path_list), len(mask_path_list)\n",
    "    )\n",
    ")"
   ]
  },
  {
   "cell_type": "code",
   "execution_count": 30,
   "metadata": {},
   "outputs": [
    {
     "name": "stderr",
     "output_type": "stream",
     "text": [
      "1624it [00:08, 199.37it/s]\n"
     ]
    }
   ],
   "source": [
    "# store numpy standard dataset\n",
    "for image_path, mask_path in tqdm(zip(image_path_list, mask_path_list)):\n",
    "    # assert image_path == mask_path\n",
    "    assert os.path.basename(image_path)[:-4] == os.path.basename(mask_path)[:-4]\n",
    "\n",
    "    # load image and mask\n",
    "    _id = os.path.basename(image_path)[:-4]\n",
    "    image_path = os.path.join(image_dir_path, image_path)\n",
    "    mask_path = os.path.join(mask_dir_path, mask_path)\n",
    "    image = plt.imread(image_path)\n",
    "\n",
    "    #\n",
    "    mask = plt.imread(mask_path)\n",
    "    if len(mask.shape) == 3:\n",
    "        mask = np.int64(np.all(mask[:, :, :3] == 1, axis=2))\n",
    "\n",
    "    # resize image and mask to 512x512 pixels\n",
    "    image_new = cv2.resize(image, dim, interpolation=cv2.INTER_CUBIC)\n",
    "    mask_new = cv2.resize(mask, dim, interpolation=cv2.INTER_NEAREST)\n",
    "\n",
    "    # save image and mask\n",
    "    save_dir_path = proceeded_folder + \"/images\"\n",
    "    os.makedirs(save_dir_path, exist_ok=True)\n",
    "    np.save(os.path.join(save_dir_path, _id + \".npy\"), image_new)\n",
    "\n",
    "    save_dir_path = proceeded_folder + \"/labels\"\n",
    "    os.makedirs(save_dir_path, exist_ok=True)\n",
    "    np.save(os.path.join(save_dir_path, _id + \".npy\"), mask_new)"
   ]
  },
  {
   "cell_type": "code",
   "execution_count": 31,
   "metadata": {},
   "outputs": [
    {
     "name": "stderr",
     "output_type": "stream",
     "text": [
      "1624it [00:00, 1092119.56it/s]"
     ]
    },
    {
     "name": "stdout",
     "output_type": "stream",
     "text": [
      "1624\n"
     ]
    },
    {
     "name": "stderr",
     "output_type": "stream",
     "text": [
      "\n"
     ]
    }
   ],
   "source": [
    "# store numpy standard dataset\n",
    "ls_image_id = []\n",
    "for image_path, mask_path in tqdm(zip(image_path_list, mask_path_list)):\n",
    "    # assert image_path == mask_path\n",
    "    assert os.path.basename(image_path)[:-4] == os.path.basename(mask_path)[:-4]\n",
    "\n",
    "    # load image and mask\n",
    "    _id = os.path.basename(image_path)[:-4]\n",
    "    ls_image_id.append(_id)\n",
    "\n",
    "print(len(ls_image_id))"
   ]
  },
  {
   "cell_type": "code",
   "execution_count": 32,
   "metadata": {},
   "outputs": [],
   "source": [
    "# split ls_image_id into 5 folds\n",
    "np.random.seed(0)\n",
    "np.random.shuffle(ls_image_id)\n",
    "fold_size = len(ls_image_id) // 5\n",
    "ls_folds = []\n",
    "for i in range(5):\n",
    "    ls_folds.append(ls_image_id[i * fold_size : (i + 1) * fold_size])\n",
    "\n",
    "# save folds as txt\n",
    "save_dir_path = proceeded_folder\n",
    "os.makedirs(save_dir_path, exist_ok=True)\n",
    "for i, fold in enumerate(ls_folds):\n",
    "    with open(os.path.join(save_dir_path, \"fold{}.txt\".format(i + 1)), \"w\") as f:\n",
    "        for item in fold:\n",
    "            file_name = f\"{item}.npy\"\n",
    "            f.write(\"%s\\n\" % file_name)"
   ]
  },
  {
   "cell_type": "code",
   "execution_count": null,
   "metadata": {},
   "outputs": [],
   "source": []
  }
 ],
 "metadata": {
  "kernelspec": {
   "display_name": "ssl-in-medical-image-segmentation",
   "language": "python",
   "name": "python3"
  },
  "language_info": {
   "codemirror_mode": {
    "name": "ipython",
    "version": 3
   },
   "file_extension": ".py",
   "mimetype": "text/x-python",
   "name": "python",
   "nbconvert_exporter": "python",
   "pygments_lexer": "ipython3",
   "version": "3.10.14"
  }
 },
 "nbformat": 4,
 "nbformat_minor": 2
}
